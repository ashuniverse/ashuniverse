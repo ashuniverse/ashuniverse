{
  "nbformat": 4,
  "nbformat_minor": 0,
  "metadata": {
    "colab": {
      "name": "Untitled1.ipynb",
      "provenance": [],
      "collapsed_sections": [],
      "authorship_tag": "ABX9TyOZXR62d9GbaioA+2cXf5hE",
      "include_colab_link": true
    },
    "kernelspec": {
      "name": "python3",
      "display_name": "Python 3"
    },
    "language_info": {
      "name": "python"
    }
  },
  "cells": [
    {
      "cell_type": "markdown",
      "metadata": {
        "id": "view-in-github",
        "colab_type": "text"
      },
      "source": [
        "<a href=\"https://colab.research.google.com/github/ashuniverse/ashuniverse/blob/main/Vote_6.1.ipynb\" target=\"_parent\"><img src=\"https://colab.research.google.com/assets/colab-badge.svg\" alt=\"Open In Colab\"/></a>"
      ]
    },
    {
      "cell_type": "code",
      "execution_count": 3,
      "metadata": {
        "colab": {
          "base_uri": "https://localhost:8080/"
        },
        "id": "IjuH4r0G5Vff",
        "outputId": "bb91e120-6913-4229-906c-f56f61c30091"
      },
      "outputs": [
        {
          "output_type": "stream",
          "name": "stdout",
          "text": [
            "Enter your age 26\n",
            "Eligible to Vote\n"
          ]
        }
      ],
      "source": [
        "age = int(input (\"Enter your age \" ))\n",
        "if age>= 18:\n",
        "    print(\"Eligible to Vote\")\n",
        "else:\n",
        "    print (\"Not Eligible to Vote\")\n"
      ]
    }
  ]
}